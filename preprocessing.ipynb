{
 "cells": [
  {
   "cell_type": "markdown",
   "id": "5d9ee65b-22dd-4b0b-b014-178f29307f2d",
   "metadata": {},
   "source": [
    "## Preprocssing & QC"
   ]
  },
  {
   "cell_type": "code",
   "execution_count": 1,
   "id": "25188c70-ebb5-4cb3-b68c-6596271fcb7b",
   "metadata": {},
   "outputs": [],
   "source": [
    "import pandas as pd\n",
    "import os\n",
    "import scanpy as sc\n",
    "import matplotlib.pyplot as plt\n",
    "import seaborn as sns"
   ]
  },
  {
   "cell_type": "code",
   "execution_count": 2,
   "id": "c39091f8-0760-4ddc-a6d6-42f592ddd54b",
   "metadata": {},
   "outputs": [],
   "source": [
    "import warnings\n",
    "warnings.simplefilter(\"ignore\", FutureWarning)\n",
    "warnings.simplefilter(\"ignore\", UserWarning)\n",
    "warnings.simplefilter(\"ignore\", RuntimeWarning)"
   ]
  },
  {
   "cell_type": "markdown",
   "id": "a59bee5f-ca2b-4ffb-952a-e6857f732af1",
   "metadata": {},
   "source": [
    "### 1. Loading Samples\n",
    "The first step here is to load the samples that we have as raw data dge.tsv.gz in scanpy. \n",
    "They where preprared in subfolders each carrying their sample name.\n",
    "\n",
    "Info: Content of dge.tsv.gz:\n",
    "\n",
    "This file contains a matrix where:\n",
    "Rows represent genes and columns represent cells.\n",
    "    \n",
    "The values in the matrix represent the expression levels (counts of RNA transcripts) of each gene in each cell."
   ]
  },
  {
   "cell_type": "code",
   "execution_count": 4,
   "id": "72223954-ccb4-4e5c-8a30-8e2e67090713",
   "metadata": {},
   "outputs": [],
   "source": [
    "#samples_dir = './samples'"
   ]
  },
  {
   "cell_type": "markdown",
   "id": "39db8b6f-1b1a-49a6-932a-752746021b6b",
   "metadata": {},
   "source": [
    "So I converted them previously in the command line to .h5ad Anndata files and saved them to /raw_data dir but alternatively we could just load them as .tsv df and \n",
    "using the sc.Anndata() function convert them to Anndata object.\n",
    "\n",
    "Now I want to load all the samples that we have in one huge Anndata list to the pp & qc steps all at once"
   ]
  },
  {
   "cell_type": "code",
   "execution_count": 4,
   "id": "7abb6d85-9a7c-4e08-9f45-96c2acf22b3c",
   "metadata": {},
   "outputs": [],
   "source": [
    "# function to load the samples in batches, for memory efficiency purposes\n",
    "\n",
    "def load_h5ad_files_in_batches(raw_data_dir, batch_size=10):\n",
    "    adata_list = []\n",
    "    all_files = [f for f in os.listdir(raw_data_dir) if f.endswith(\".h5ad\")]\n",
    "    \n",
    "    # process files in batches\n",
    "    for i in range(0, len(all_files), batch_size):\n",
    "        batch_files = all_files[i:i+batch_size]  # Get the current batch of files\n",
    "        print(f\"Processing batch {i // batch_size + 1}: {batch_files}\")\n",
    "        \n",
    "        batch_list = []\n",
    "        for file in batch_files:\n",
    "            file_path = os.path.join(raw_data_dir, file)\n",
    "            print(f\"Loading {file_path}...\")\n",
    "\n",
    "            # load the .h5ad file into an AnnData object\n",
    "            adata = sc.read_h5ad(file_path).T\n",
    "            \n",
    "            # extract the sample name from the file name (without extension)\n",
    "            sample_name = os.path.splitext(file)[0]\n",
    "            \n",
    "            # add the 'Sample' column to the AnnData object\n",
    "            adata.obs['Sample'] = sample_name\n",
    "            \n",
    "            # append each AnnData object to the batch list\n",
    "            batch_list.append(adata)\n",
    "\n",
    "        # process the current batch (e.g., append to master list or perform analysis)\n",
    "        adata_list.extend(batch_list)\n",
    "        \n",
    "        # clear the batch_list to free memory if not needed further\n",
    "        batch_list = []\n",
    "    \n",
    "    return adata_list"
   ]
  },
  {
   "cell_type": "code",
   "execution_count": 5,
   "id": "f228e19d-78b8-41cd-9efa-5b53a84c2549",
   "metadata": {},
   "outputs": [
    {
     "name": "stdout",
     "output_type": "stream",
     "text": [
      "Processing batch 1: ['Hs_SAT_SVF_235-1A-2.h5ad', 'Mm_POV_04-1.h5ad', 'Hs_SAT_SVF_235-2A-1.h5ad', 'Hs_SAT_SVF_237-2A-1.h5ad', 'Hs_SAT_10-1.h5ad', 'Hs_SAT_SVF_238-1A-1.h5ad', 'Hs_OAT_10-1.h5ad', 'Mm_ING_12-1.h5ad', 'Hs_SAT_266-1.h5ad', 'Mm_ING_13-1.h5ad']\n",
      "Loading raw_data/Hs_SAT_SVF_235-1A-2.h5ad...\n",
      "Loading raw_data/Mm_POV_04-1.h5ad...\n",
      "Loading raw_data/Hs_SAT_SVF_235-2A-1.h5ad...\n",
      "Loading raw_data/Hs_SAT_SVF_237-2A-1.h5ad...\n",
      "Loading raw_data/Hs_SAT_10-1.h5ad...\n",
      "Loading raw_data/Hs_SAT_SVF_238-1A-1.h5ad...\n",
      "Loading raw_data/Hs_OAT_10-1.h5ad...\n",
      "Loading raw_data/Mm_ING_12-1.h5ad...\n",
      "Loading raw_data/Hs_SAT_266-1.h5ad...\n",
      "Loading raw_data/Mm_ING_13-1.h5ad...\n",
      "Processing batch 2: ['Hs_SAT_SVF_239-3BC-1.h5ad', 'Mm_ING_16-1.h5ad', 'Hs_SAT_SVF_239-1B-2.h5ad', 'Hs_SAT_253-1.h5ad', 'Mm_EPI_11-1.h5ad', 'Mm_EPI_10-2.h5ad', 'Mm_ING_17-1.h5ad', 'Hs_OAT_12-1.h5ad', 'Hs_SAT_01-1.h5ad', 'Hs_SAT_SVF_249-1B-1.h5ad']\n",
      "Loading raw_data/Hs_SAT_SVF_239-3BC-1.h5ad...\n",
      "Loading raw_data/Mm_ING_16-1.h5ad...\n",
      "Loading raw_data/Hs_SAT_SVF_239-1B-2.h5ad...\n",
      "Loading raw_data/Hs_SAT_253-1.h5ad...\n",
      "Loading raw_data/Mm_EPI_11-1.h5ad...\n",
      "Loading raw_data/Mm_EPI_10-2.h5ad...\n",
      "Loading raw_data/Mm_ING_17-1.h5ad...\n",
      "Loading raw_data/Hs_OAT_12-1.h5ad...\n",
      "Loading raw_data/Hs_SAT_01-1.h5ad...\n",
      "Loading raw_data/Hs_SAT_SVF_249-1B-1.h5ad...\n",
      "Processing batch 3: ['Mm_EPI_12-1.h5ad', 'Hs_SAT_255-1.h5ad', 'Hs_SAT_02-1.h5ad', 'Hs_OAT_253-1.h5ad', 'Hs_OAT_256-1.h5ad', 'Hs_SAT_SVF_249-1A-1.h5ad', 'Mm_ING_10-2.h5ad', 'Hs_SAT_SVF_239-2A-1.h5ad', 'Hs_SAT_SVF_242-3A-1.h5ad', 'Hs_SAT_SVF_237-1A-1.h5ad']\n",
      "Loading raw_data/Mm_EPI_12-1.h5ad...\n",
      "Loading raw_data/Hs_SAT_255-1.h5ad...\n",
      "Loading raw_data/Hs_SAT_02-1.h5ad...\n",
      "Loading raw_data/Hs_OAT_253-1.h5ad...\n",
      "Loading raw_data/Hs_OAT_256-1.h5ad...\n",
      "Loading raw_data/Hs_SAT_SVF_249-1A-1.h5ad...\n",
      "Loading raw_data/Mm_ING_10-2.h5ad...\n",
      "Loading raw_data/Hs_SAT_SVF_239-2A-1.h5ad...\n",
      "Loading raw_data/Hs_SAT_SVF_242-3A-1.h5ad...\n",
      "Loading raw_data/Hs_SAT_SVF_237-1A-1.h5ad...\n",
      "Processing batch 4: ['Hs_SAT_SVF_235-2B-1.h5ad', 'Hs_SAT_SVF_236-2A-2.h5ad', 'Hs_SAT_SVF_239-3A-1.h5ad', 'Hs_SAT_SVF_238-1B-1.h5ad', 'Hs_SAT_SVF_248-2A-1.h5ad', 'Hs_SAT_SVF_235-2A-2.h5ad', 'Mm_ING_22-1.h5ad', 'Mm_EPI_18-1.h5ad', 'Hs_SAT_13-1.h5ad', 'Hs_SAT_09-1.h5ad']\n",
      "Loading raw_data/Hs_SAT_SVF_235-2B-1.h5ad...\n",
      "Loading raw_data/Hs_SAT_SVF_236-2A-2.h5ad...\n",
      "Loading raw_data/Hs_SAT_SVF_239-3A-1.h5ad...\n",
      "Loading raw_data/Hs_SAT_SVF_238-1B-1.h5ad...\n",
      "Loading raw_data/Hs_SAT_SVF_248-2A-1.h5ad...\n",
      "Loading raw_data/Hs_SAT_SVF_235-2A-2.h5ad...\n",
      "Loading raw_data/Mm_ING_22-1.h5ad...\n",
      "Loading raw_data/Mm_EPI_18-1.h5ad...\n",
      "Loading raw_data/Hs_SAT_13-1.h5ad...\n",
      "Loading raw_data/Hs_SAT_09-1.h5ad...\n",
      "Processing batch 5: ['Mm_ING_10-1.h5ad', 'Hs_SAT_SVF_235-1A-1.h5ad', 'Hs_SAT_SVF_242-2A-1.h5ad', 'Hs_SAT_SVF_238-2A-1.h5ad', 'Hs_OAT_254-1.h5ad', 'Hs_SAT_SVF_242-2B-1.h5ad', 'Hs_SAT_SVF_240-1B-1.h5ad', 'Mm_ING_11-1.h5ad', 'Mm_EPI_17-1.h5ad', 'Hs_OAT_01-2.h5ad']\n",
      "Loading raw_data/Mm_ING_10-1.h5ad...\n",
      "Loading raw_data/Hs_SAT_SVF_235-1A-1.h5ad...\n",
      "Loading raw_data/Hs_SAT_SVF_242-2A-1.h5ad...\n",
      "Loading raw_data/Hs_SAT_SVF_238-2A-1.h5ad...\n",
      "Loading raw_data/Hs_OAT_254-1.h5ad...\n",
      "Loading raw_data/Hs_SAT_SVF_242-2B-1.h5ad...\n",
      "Loading raw_data/Hs_SAT_SVF_240-1B-1.h5ad...\n",
      "Loading raw_data/Mm_ING_11-1.h5ad...\n",
      "Loading raw_data/Mm_EPI_17-1.h5ad...\n",
      "Loading raw_data/Hs_OAT_01-2.h5ad...\n",
      "Processing batch 6: ['Hs_SAT_SVF_236-1A-2.h5ad', 'Hs_SAT_254-1.h5ad', 'Hs_OAT_13-1.h5ad', 'Mm_ING_24-1.h5ad', 'Mm_ING_19-1.h5ad', 'Hs_OAT_266-1.h5ad', 'Hs_OAT_09-1.h5ad', 'Hs_SAT_SVF_235-1B-2.h5ad', 'Hs_SAT_SVF_249-2B-1.h5ad', 'Hs_SAT_SVF_242-1B-1.h5ad']\n",
      "Loading raw_data/Hs_SAT_SVF_236-1A-2.h5ad...\n",
      "Loading raw_data/Hs_SAT_254-1.h5ad...\n",
      "Loading raw_data/Hs_OAT_13-1.h5ad...\n",
      "Loading raw_data/Mm_ING_24-1.h5ad...\n",
      "Loading raw_data/Mm_ING_19-1.h5ad...\n",
      "Loading raw_data/Hs_OAT_266-1.h5ad...\n",
      "Loading raw_data/Hs_OAT_09-1.h5ad...\n",
      "Loading raw_data/Hs_SAT_SVF_235-1B-2.h5ad...\n",
      "Loading raw_data/Hs_SAT_SVF_249-2B-1.h5ad...\n",
      "Loading raw_data/Hs_SAT_SVF_242-1B-1.h5ad...\n",
      "Processing batch 7: ['Hs_SAT_11-1.h5ad', 'Hs_SAT_SVF_236-1B-1.h5ad', 'Mm_ING_18-1.h5ad', 'Hs_SAT_SVF_248-1B-1.h5ad', 'Hs_SAT_SVF_235-2B-2.h5ad', 'Hs_SAT_SVF_239-3B-1.h5ad', 'Mm_EPI_14-1.h5ad', 'Hs_SAT_SVF_239-1A-1.h5ad', 'Hs_SAT_256-1.h5ad', 'Hs_OAT_255-1.h5ad']\n",
      "Loading raw_data/Hs_SAT_11-1.h5ad...\n",
      "Loading raw_data/Hs_SAT_SVF_236-1B-1.h5ad...\n",
      "Loading raw_data/Mm_ING_18-1.h5ad...\n",
      "Loading raw_data/Hs_SAT_SVF_248-1B-1.h5ad...\n",
      "Loading raw_data/Hs_SAT_SVF_235-2B-2.h5ad...\n",
      "Loading raw_data/Hs_SAT_SVF_239-3B-1.h5ad...\n",
      "Loading raw_data/Mm_EPI_14-1.h5ad...\n",
      "Loading raw_data/Hs_SAT_SVF_239-1A-1.h5ad...\n",
      "Loading raw_data/Hs_SAT_256-1.h5ad...\n",
      "Loading raw_data/Hs_OAT_255-1.h5ad...\n",
      "Processing batch 8: ['Hs_SAT_SVF_248-1A-1.h5ad', 'Mm_EPI_10-1.h5ad', 'Mm_ING_08-3.h5ad', 'Mm_EPI_19-1.h5ad', 'Mm_POV_03-1.h5ad', 'Mm_POV_01-1.h5ad', 'Hs_OAT_01-1.h5ad', 'Hs_SAT_SVF_238-2B-1.h5ad', 'Hs_SAT_SVF_236-1A-1.h5ad', 'Hs_SAT_SVF_235-1B-1.h5ad']\n",
      "Loading raw_data/Hs_SAT_SVF_248-1A-1.h5ad...\n",
      "Loading raw_data/Mm_EPI_10-1.h5ad...\n",
      "Loading raw_data/Mm_ING_08-3.h5ad...\n",
      "Loading raw_data/Mm_EPI_19-1.h5ad...\n",
      "Loading raw_data/Mm_POV_03-1.h5ad...\n",
      "Loading raw_data/Mm_POV_01-1.h5ad...\n",
      "Loading raw_data/Hs_OAT_01-1.h5ad...\n",
      "Loading raw_data/Hs_SAT_SVF_238-2B-1.h5ad...\n",
      "Loading raw_data/Hs_SAT_SVF_236-1A-1.h5ad...\n",
      "Loading raw_data/Hs_SAT_SVF_235-1B-1.h5ad...\n",
      "Processing batch 9: ['Mm_EPI_13-1.h5ad', 'Hs_SAT_12-1.h5ad', 'Mm_ING_09-2.h5ad', 'Hs_SAT_SVF_249-2A-1.h5ad', 'Hs_SAT_04-1.h5ad', 'Mm_POV_02-1.h5ad']\n",
      "Loading raw_data/Mm_EPI_13-1.h5ad...\n",
      "Loading raw_data/Hs_SAT_12-1.h5ad...\n",
      "Loading raw_data/Mm_ING_09-2.h5ad...\n",
      "Loading raw_data/Hs_SAT_SVF_249-2A-1.h5ad...\n",
      "Loading raw_data/Hs_SAT_04-1.h5ad...\n",
      "Loading raw_data/Mm_POV_02-1.h5ad...\n"
     ]
    }
   ],
   "source": [
    "raw_data_dir = 'raw_data'\n",
    "adata_list = load_h5ad_files_in_batches(raw_data_dir, batch_size=10)"
   ]
  },
  {
   "cell_type": "code",
   "execution_count": 8,
   "id": "7414a659-bd68-46e8-9882-ec48790b4b74",
   "metadata": {},
   "outputs": [
    {
     "data": {
      "text/plain": [
       "[AnnData object with n_obs × n_vars = 632 × 19817\n",
       "     obs: 'Sample',\n",
       " AnnData object with n_obs × n_vars = 19960 × 26275\n",
       "     obs: 'Sample',\n",
       " AnnData object with n_obs × n_vars = 2451 × 23454\n",
       "     obs: 'Sample',\n",
       " AnnData object with n_obs × n_vars = 1483 × 21465\n",
       "     obs: 'Sample',\n",
       " AnnData object with n_obs × n_vars = 862 × 17227\n",
       "     obs: 'Sample',\n",
       " AnnData object with n_obs × n_vars = 3029 × 23635\n",
       "     obs: 'Sample',\n",
       " AnnData object with n_obs × n_vars = 10486 × 26159\n",
       "     obs: 'Sample',\n",
       " AnnData object with n_obs × n_vars = 8611 × 25663\n",
       "     obs: 'Sample',\n",
       " AnnData object with n_obs × n_vars = 7363 × 25176\n",
       "     obs: 'Sample',\n",
       " AnnData object with n_obs × n_vars = 8424 × 25939\n",
       "     obs: 'Sample',\n",
       " AnnData object with n_obs × n_vars = 1702 × 20041\n",
       "     obs: 'Sample',\n",
       " AnnData object with n_obs × n_vars = 9973 × 26430\n",
       "     obs: 'Sample',\n",
       " AnnData object with n_obs × n_vars = 2144 × 22213\n",
       "     obs: 'Sample',\n",
       " AnnData object with n_obs × n_vars = 2940 × 20989\n",
       "     obs: 'Sample',\n",
       " AnnData object with n_obs × n_vars = 9657 × 26073\n",
       "     obs: 'Sample',\n",
       " AnnData object with n_obs × n_vars = 8947 × 25741\n",
       "     obs: 'Sample',\n",
       " AnnData object with n_obs × n_vars = 8130 × 25516\n",
       "     obs: 'Sample',\n",
       " AnnData object with n_obs × n_vars = 14174 × 26010\n",
       "     obs: 'Sample',\n",
       " AnnData object with n_obs × n_vars = 6375 × 25309\n",
       "     obs: 'Sample',\n",
       " AnnData object with n_obs × n_vars = 205 × 14959\n",
       "     obs: 'Sample',\n",
       " AnnData object with n_obs × n_vars = 10963 × 25226\n",
       "     obs: 'Sample',\n",
       " AnnData object with n_obs × n_vars = 6182 × 24600\n",
       "     obs: 'Sample',\n",
       " AnnData object with n_obs × n_vars = 6689 × 25265\n",
       "     obs: 'Sample',\n",
       " AnnData object with n_obs × n_vars = 38931 × 26596\n",
       "     obs: 'Sample',\n",
       " AnnData object with n_obs × n_vars = 8797 × 25069\n",
       "     obs: 'Sample',\n",
       " AnnData object with n_obs × n_vars = 269 × 15219\n",
       "     obs: 'Sample',\n",
       " AnnData object with n_obs × n_vars = 6690 × 23173\n",
       "     obs: 'Sample',\n",
       " AnnData object with n_obs × n_vars = 3842 × 22719\n",
       "     obs: 'Sample',\n",
       " AnnData object with n_obs × n_vars = 579 × 16894\n",
       "     obs: 'Sample',\n",
       " AnnData object with n_obs × n_vars = 1787 × 21806\n",
       "     obs: 'Sample',\n",
       " AnnData object with n_obs × n_vars = 2890 × 23899\n",
       "     obs: 'Sample',\n",
       " AnnData object with n_obs × n_vars = 2161 × 20587\n",
       "     obs: 'Sample',\n",
       " AnnData object with n_obs × n_vars = 2104 × 22291\n",
       "     obs: 'Sample',\n",
       " AnnData object with n_obs × n_vars = 2232 × 23212\n",
       "     obs: 'Sample',\n",
       " AnnData object with n_obs × n_vars = 424 × 16535\n",
       "     obs: 'Sample',\n",
       " AnnData object with n_obs × n_vars = 3018 × 23500\n",
       "     obs: 'Sample',\n",
       " AnnData object with n_obs × n_vars = 10339 × 26116\n",
       "     obs: 'Sample',\n",
       " AnnData object with n_obs × n_vars = 7258 × 26617\n",
       "     obs: 'Sample',\n",
       " AnnData object with n_obs × n_vars = 8407 × 24982\n",
       "     obs: 'Sample',\n",
       " AnnData object with n_obs × n_vars = 600 × 20268\n",
       "     obs: 'Sample',\n",
       " AnnData object with n_obs × n_vars = 13294 × 24384\n",
       "     obs: 'Sample',\n",
       " AnnData object with n_obs × n_vars = 2418 × 24499\n",
       "     obs: 'Sample',\n",
       " AnnData object with n_obs × n_vars = 4260 × 24930\n",
       "     obs: 'Sample',\n",
       " AnnData object with n_obs × n_vars = 1888 × 23451\n",
       "     obs: 'Sample',\n",
       " AnnData object with n_obs × n_vars = 17249 × 26752\n",
       "     obs: 'Sample',\n",
       " AnnData object with n_obs × n_vars = 2426 × 22481\n",
       "     obs: 'Sample',\n",
       " AnnData object with n_obs × n_vars = 1414 × 19142\n",
       "     obs: 'Sample',\n",
       " AnnData object with n_obs × n_vars = 4055 × 25080\n",
       "     obs: 'Sample',\n",
       " AnnData object with n_obs × n_vars = 8715 × 25326\n",
       "     obs: 'Sample',\n",
       " AnnData object with n_obs × n_vars = 7799 × 25774\n",
       "     obs: 'Sample',\n",
       " AnnData object with n_obs × n_vars = 3842 × 22535\n",
       "     obs: 'Sample',\n",
       " AnnData object with n_obs × n_vars = 14799 × 25887\n",
       "     obs: 'Sample',\n",
       " AnnData object with n_obs × n_vars = 11225 × 25611\n",
       "     obs: 'Sample',\n",
       " AnnData object with n_obs × n_vars = 7795 × 25423\n",
       "     obs: 'Sample',\n",
       " AnnData object with n_obs × n_vars = 10287 × 26060\n",
       "     obs: 'Sample',\n",
       " AnnData object with n_obs × n_vars = 7617 × 24010\n",
       "     obs: 'Sample',\n",
       " AnnData object with n_obs × n_vars = 7604 × 26047\n",
       "     obs: 'Sample',\n",
       " AnnData object with n_obs × n_vars = 1008 × 22104\n",
       "     obs: 'Sample',\n",
       " AnnData object with n_obs × n_vars = 282 × 15060\n",
       "     obs: 'Sample',\n",
       " AnnData object with n_obs × n_vars = 903 × 19812\n",
       "     obs: 'Sample',\n",
       " AnnData object with n_obs × n_vars = 2434 × 20433\n",
       "     obs: 'Sample',\n",
       " AnnData object with n_obs × n_vars = 2491 × 23954\n",
       "     obs: 'Sample',\n",
       " AnnData object with n_obs × n_vars = 11668 × 25906\n",
       "     obs: 'Sample',\n",
       " AnnData object with n_obs × n_vars = 734 × 19629\n",
       "     obs: 'Sample',\n",
       " AnnData object with n_obs × n_vars = 2562 × 23106\n",
       "     obs: 'Sample',\n",
       " AnnData object with n_obs × n_vars = 934 × 18411\n",
       "     obs: 'Sample',\n",
       " AnnData object with n_obs × n_vars = 10325 × 25413\n",
       "     obs: 'Sample',\n",
       " AnnData object with n_obs × n_vars = 2071 × 21818\n",
       "     obs: 'Sample',\n",
       " AnnData object with n_obs × n_vars = 6397 × 25310\n",
       "     obs: 'Sample',\n",
       " AnnData object with n_obs × n_vars = 8469 × 25253\n",
       "     obs: 'Sample',\n",
       " AnnData object with n_obs × n_vars = 1078 × 19844\n",
       "     obs: 'Sample',\n",
       " AnnData object with n_obs × n_vars = 8831 × 24966\n",
       "     obs: 'Sample',\n",
       " AnnData object with n_obs × n_vars = 8629 × 25331\n",
       "     obs: 'Sample',\n",
       " AnnData object with n_obs × n_vars = 13511 × 27040\n",
       "     obs: 'Sample',\n",
       " AnnData object with n_obs × n_vars = 8715 × 25858\n",
       "     obs: 'Sample',\n",
       " AnnData object with n_obs × n_vars = 5586 × 25867\n",
       "     obs: 'Sample',\n",
       " AnnData object with n_obs × n_vars = 9393 × 25609\n",
       "     obs: 'Sample',\n",
       " AnnData object with n_obs × n_vars = 2168 × 23566\n",
       "     obs: 'Sample',\n",
       " AnnData object with n_obs × n_vars = 2188 × 23354\n",
       "     obs: 'Sample',\n",
       " AnnData object with n_obs × n_vars = 1078 × 21456\n",
       "     obs: 'Sample',\n",
       " AnnData object with n_obs × n_vars = 13457 × 24957\n",
       "     obs: 'Sample',\n",
       " AnnData object with n_obs × n_vars = 6091 × 25121\n",
       "     obs: 'Sample',\n",
       " AnnData object with n_obs × n_vars = 11819 × 25970\n",
       "     obs: 'Sample',\n",
       " AnnData object with n_obs × n_vars = 283 × 15055\n",
       "     obs: 'Sample',\n",
       " AnnData object with n_obs × n_vars = 2667 × 22334\n",
       "     obs: 'Sample',\n",
       " AnnData object with n_obs × n_vars = 8869 × 25958\n",
       "     obs: 'Sample']"
      ]
     },
     "execution_count": 8,
     "metadata": {},
     "output_type": "execute_result"
    }
   ],
   "source": [
    "# so we end up with this long list of all Anndata objects\n",
    "adata_list"
   ]
  },
  {
   "cell_type": "markdown",
   "id": "e4a3758a-66fc-44b7-bc7d-a81fd90975bd",
   "metadata": {},
   "source": [
    "#### Function: `qc(adata)`\n",
    "\n",
    "This function performs quality control (QC) on `AnnData` object (`adata`). The steps include:\n",
    "\n",
    "1. **Cell Filtering**: Cells with fewer than 200 detected genes are filtered out to ensure minimum quality.\n",
    "2. **Gene Categorization**: Mitochondrial (`MT-`), ribosomal (`RPS`, `RPL`), and hemoglobin (`HB`) genes are identified and labeled in `adata.var`.\n",
    "3. **QC Metrics Calculation**: Quality control metrics, including the percentage of mitochondrial, ribosomal, and hemoglobin gene counts, are calculated for each cell. \n",
    "4. **Cleanup**: Removes redundant QC columns (`total_counts` and `log1p_total_counts`) from `adata.obs`.\n",
    "5. **LAM Cell Identification**: Checks for the presence of predefined **LAM (Lipid-Associated Macrophage)** marker genes and flags cells as `LAM_cells` based on marker expression.\n",
    "\n",
    "The function returns the updated `AnnData` object with the new QC metrics and LAM cell labels.\n",
    "\n",
    "I regreted the **LAM Cell Identification** step later as it's too early to detect the LAM cells. So I kept it in the adata but removed it after the integration and created another one after clustering."
   ]
  },
  {
   "cell_type": "code",
   "execution_count": 6,
   "id": "c67e6ea5-407a-4ac7-8d6e-62fc24b09e13",
   "metadata": {},
   "outputs": [],
   "source": [
    "'''\n",
    "Courtesy: https://www.sanbomics.com/teaching/\n",
    "'''\n",
    "def qc(adata):\n",
    "    lam_markers = ['TREM2', 'CD9', 'LPL', 'APOE', 'LRP1', 'APP', 'LGALS3', 'LIPA']\n",
    "    \n",
    "    # filter for minimum genes\n",
    "    sc.pp.filter_cells(adata, min_genes=200)\n",
    "    \n",
    "    # identifying mitochondrial, ribosomal, and hemoglobin genes\n",
    "    adata.var['mt'] = adata.var_names.str.startswith('MT-')\n",
    "    adata.var['ribo'] = adata.var_names.str.startswith(('RPS', 'RPL'))\n",
    "    adata.var['hb'] = adata.var_names.str.contains(('^HB[^(P)]'))\n",
    "    \n",
    "    # calculate QC metrics\n",
    "    sc.pp.calculate_qc_metrics(adata, qc_vars=['mt', 'ribo', 'hb'], inplace=True, percent_top=[20], log1p=True)\n",
    "    \n",
    "    # remove unnecessary QC columns\n",
    "    remove = ['total_counts_mt', 'log1p_total_counts_mt', 'total_counts_ribo', 'log1p_total_counts_ribo',\n",
    "              'total_counts_hb', 'log1p_total_counts_hb']\n",
    "    adata.obs = adata.obs[[x for x in adata.obs.columns if x not in remove]]\n",
    "    \n",
    "    # ensure lam_markers are in var_names\n",
    "    valid_markers = [gene for gene in lam_markers if gene in adata.var_names]\n",
    "    if valid_markers:\n",
    "        adata.obs['LAM_cells'] = adata[:, valid_markers].X.sum(axis=1) > 0\n",
    "    else:\n",
    "        print(f\"None of the LAM markers {lam_markers} are present in the dataset.\")\n",
    "        adata.obs['LAM_cells'] = False  \n",
    "    \n",
    "    return adata"
   ]
  },
  {
   "cell_type": "code",
   "execution_count": 7,
   "id": "e9947abf-5c52-4fe1-9e7e-f455eefa5471",
   "metadata": {},
   "outputs": [
    {
     "name": "stdout",
     "output_type": "stream",
     "text": [
      "None of the LAM markers ['TREM2', 'CD9', 'LPL', 'APOE', 'LRP1', 'APP', 'LGALS3', 'LIPA'] are present in the dataset.\n",
      "None of the LAM markers ['TREM2', 'CD9', 'LPL', 'APOE', 'LRP1', 'APP', 'LGALS3', 'LIPA'] are present in the dataset.\n",
      "None of the LAM markers ['TREM2', 'CD9', 'LPL', 'APOE', 'LRP1', 'APP', 'LGALS3', 'LIPA'] are present in the dataset.\n",
      "None of the LAM markers ['TREM2', 'CD9', 'LPL', 'APOE', 'LRP1', 'APP', 'LGALS3', 'LIPA'] are present in the dataset.\n",
      "None of the LAM markers ['TREM2', 'CD9', 'LPL', 'APOE', 'LRP1', 'APP', 'LGALS3', 'LIPA'] are present in the dataset.\n",
      "None of the LAM markers ['TREM2', 'CD9', 'LPL', 'APOE', 'LRP1', 'APP', 'LGALS3', 'LIPA'] are present in the dataset.\n",
      "None of the LAM markers ['TREM2', 'CD9', 'LPL', 'APOE', 'LRP1', 'APP', 'LGALS3', 'LIPA'] are present in the dataset.\n",
      "None of the LAM markers ['TREM2', 'CD9', 'LPL', 'APOE', 'LRP1', 'APP', 'LGALS3', 'LIPA'] are present in the dataset.\n",
      "None of the LAM markers ['TREM2', 'CD9', 'LPL', 'APOE', 'LRP1', 'APP', 'LGALS3', 'LIPA'] are present in the dataset.\n",
      "None of the LAM markers ['TREM2', 'CD9', 'LPL', 'APOE', 'LRP1', 'APP', 'LGALS3', 'LIPA'] are present in the dataset.\n",
      "None of the LAM markers ['TREM2', 'CD9', 'LPL', 'APOE', 'LRP1', 'APP', 'LGALS3', 'LIPA'] are present in the dataset.\n",
      "None of the LAM markers ['TREM2', 'CD9', 'LPL', 'APOE', 'LRP1', 'APP', 'LGALS3', 'LIPA'] are present in the dataset.\n",
      "None of the LAM markers ['TREM2', 'CD9', 'LPL', 'APOE', 'LRP1', 'APP', 'LGALS3', 'LIPA'] are present in the dataset.\n",
      "None of the LAM markers ['TREM2', 'CD9', 'LPL', 'APOE', 'LRP1', 'APP', 'LGALS3', 'LIPA'] are present in the dataset.\n",
      "None of the LAM markers ['TREM2', 'CD9', 'LPL', 'APOE', 'LRP1', 'APP', 'LGALS3', 'LIPA'] are present in the dataset.\n",
      "None of the LAM markers ['TREM2', 'CD9', 'LPL', 'APOE', 'LRP1', 'APP', 'LGALS3', 'LIPA'] are present in the dataset.\n",
      "None of the LAM markers ['TREM2', 'CD9', 'LPL', 'APOE', 'LRP1', 'APP', 'LGALS3', 'LIPA'] are present in the dataset.\n",
      "None of the LAM markers ['TREM2', 'CD9', 'LPL', 'APOE', 'LRP1', 'APP', 'LGALS3', 'LIPA'] are present in the dataset.\n",
      "None of the LAM markers ['TREM2', 'CD9', 'LPL', 'APOE', 'LRP1', 'APP', 'LGALS3', 'LIPA'] are present in the dataset.\n",
      "None of the LAM markers ['TREM2', 'CD9', 'LPL', 'APOE', 'LRP1', 'APP', 'LGALS3', 'LIPA'] are present in the dataset.\n",
      "None of the LAM markers ['TREM2', 'CD9', 'LPL', 'APOE', 'LRP1', 'APP', 'LGALS3', 'LIPA'] are present in the dataset.\n",
      "None of the LAM markers ['TREM2', 'CD9', 'LPL', 'APOE', 'LRP1', 'APP', 'LGALS3', 'LIPA'] are present in the dataset.\n",
      "None of the LAM markers ['TREM2', 'CD9', 'LPL', 'APOE', 'LRP1', 'APP', 'LGALS3', 'LIPA'] are present in the dataset.\n",
      "None of the LAM markers ['TREM2', 'CD9', 'LPL', 'APOE', 'LRP1', 'APP', 'LGALS3', 'LIPA'] are present in the dataset.\n",
      "None of the LAM markers ['TREM2', 'CD9', 'LPL', 'APOE', 'LRP1', 'APP', 'LGALS3', 'LIPA'] are present in the dataset.\n",
      "None of the LAM markers ['TREM2', 'CD9', 'LPL', 'APOE', 'LRP1', 'APP', 'LGALS3', 'LIPA'] are present in the dataset.\n"
     ]
    }
   ],
   "source": [
    "adata_list = [qc(ad) for ad in adata_list]"
   ]
  },
  {
   "cell_type": "markdown",
   "id": "ef5358c6-3033-41fd-83ac-3e77531525ce",
   "metadata": {},
   "source": [
    "This line concatenates the `.obs` attribute (cell metadata) from multiple `AnnData` objects in `adata_list` into a single `pandas DataFrame` (`df`). Each `AnnData` object contains observations (cells), and this step combines the metadata for all cells across the different datasets into one DataFrame, which can then be used for further analysis or inspection.\n",
    "\n",
    "We need the data in one single Pandas df to run the QC metrics and visualize the distribution of these QC metrics Across Samples."
   ]
  },
  {
   "cell_type": "code",
   "execution_count": 18,
   "id": "286a3618-b722-42b8-9d4f-7e8310cdf80d",
   "metadata": {},
   "outputs": [],
   "source": [
    "df = pd.concat([x.obs for x in adata_list])"
   ]
  },
  {
   "cell_type": "code",
   "execution_count": 19,
   "id": "e28e57a9-c17c-4883-bebc-ff7145cc9ce7",
   "metadata": {},
   "outputs": [
    {
     "data": {
      "text/html": [
       "<div>\n",
       "<style scoped>\n",
       "    .dataframe tbody tr th:only-of-type {\n",
       "        vertical-align: middle;\n",
       "    }\n",
       "\n",
       "    .dataframe tbody tr th {\n",
       "        vertical-align: top;\n",
       "    }\n",
       "\n",
       "    .dataframe thead th {\n",
       "        text-align: right;\n",
       "    }\n",
       "</style>\n",
       "<table border=\"1\" class=\"dataframe\">\n",
       "  <thead>\n",
       "    <tr style=\"text-align: right;\">\n",
       "      <th></th>\n",
       "      <th>Sample</th>\n",
       "      <th>n_genes</th>\n",
       "      <th>n_genes_by_counts</th>\n",
       "      <th>log1p_n_genes_by_counts</th>\n",
       "      <th>total_counts</th>\n",
       "      <th>log1p_total_counts</th>\n",
       "      <th>pct_counts_in_top_20_genes</th>\n",
       "      <th>pct_counts_mt</th>\n",
       "      <th>pct_counts_ribo</th>\n",
       "      <th>pct_counts_hb</th>\n",
       "      <th>LAM_cells</th>\n",
       "    </tr>\n",
       "  </thead>\n",
       "  <tbody>\n",
       "    <tr>\n",
       "      <th>CATCAAGCAGGATGAC</th>\n",
       "      <td>Hs_OAT_01-1</td>\n",
       "      <td>3597</td>\n",
       "      <td>3597</td>\n",
       "      <td>8.188133</td>\n",
       "      <td>7846.0</td>\n",
       "      <td>8.967887</td>\n",
       "      <td>14.121846</td>\n",
       "      <td>1.223553</td>\n",
       "      <td>0.433342</td>\n",
       "      <td>0.012745</td>\n",
       "      <td>True</td>\n",
       "    </tr>\n",
       "    <tr>\n",
       "      <th>GTAACCAAGCTCCCTT</th>\n",
       "      <td>Hs_OAT_01-1</td>\n",
       "      <td>1944</td>\n",
       "      <td>1944</td>\n",
       "      <td>7.573017</td>\n",
       "      <td>3384.0</td>\n",
       "      <td>8.127110</td>\n",
       "      <td>10.786052</td>\n",
       "      <td>0.738771</td>\n",
       "      <td>0.325059</td>\n",
       "      <td>0.000000</td>\n",
       "      <td>True</td>\n",
       "    </tr>\n",
       "    <tr>\n",
       "      <th>GTAACCAAGCCACAAG</th>\n",
       "      <td>Hs_OAT_01-1</td>\n",
       "      <td>3143</td>\n",
       "      <td>3143</td>\n",
       "      <td>8.053251</td>\n",
       "      <td>6801.0</td>\n",
       "      <td>8.824972</td>\n",
       "      <td>14.733127</td>\n",
       "      <td>3.940597</td>\n",
       "      <td>0.499926</td>\n",
       "      <td>0.044111</td>\n",
       "      <td>True</td>\n",
       "    </tr>\n",
       "    <tr>\n",
       "      <th>GTAACACGTGCCTTCT</th>\n",
       "      <td>Hs_OAT_01-1</td>\n",
       "      <td>5199</td>\n",
       "      <td>5199</td>\n",
       "      <td>8.556414</td>\n",
       "      <td>15486.0</td>\n",
       "      <td>9.647757</td>\n",
       "      <td>11.113264</td>\n",
       "      <td>4.701020</td>\n",
       "      <td>0.555340</td>\n",
       "      <td>0.025830</td>\n",
       "      <td>True</td>\n",
       "    </tr>\n",
       "    <tr>\n",
       "      <th>GTAACACGTGAGATAT</th>\n",
       "      <td>Hs_OAT_01-1</td>\n",
       "      <td>2383</td>\n",
       "      <td>2383</td>\n",
       "      <td>7.776535</td>\n",
       "      <td>3870.0</td>\n",
       "      <td>8.261269</td>\n",
       "      <td>9.276486</td>\n",
       "      <td>1.111111</td>\n",
       "      <td>0.258398</td>\n",
       "      <td>0.000000</td>\n",
       "      <td>True</td>\n",
       "    </tr>\n",
       "    <tr>\n",
       "      <th>...</th>\n",
       "      <td>...</td>\n",
       "      <td>...</td>\n",
       "      <td>...</td>\n",
       "      <td>...</td>\n",
       "      <td>...</td>\n",
       "      <td>...</td>\n",
       "      <td>...</td>\n",
       "      <td>...</td>\n",
       "      <td>...</td>\n",
       "      <td>...</td>\n",
       "      <td>...</td>\n",
       "    </tr>\n",
       "    <tr>\n",
       "      <th>TTCACCGAGCAATTAG</th>\n",
       "      <td>Mm_POV_04-1</td>\n",
       "      <td>840</td>\n",
       "      <td>840</td>\n",
       "      <td>6.734592</td>\n",
       "      <td>1382.0</td>\n",
       "      <td>7.232010</td>\n",
       "      <td>23.082489</td>\n",
       "      <td>0.000000</td>\n",
       "      <td>0.000000</td>\n",
       "      <td>0.000000</td>\n",
       "      <td>False</td>\n",
       "    </tr>\n",
       "    <tr>\n",
       "      <th>ATGGGTTAGACGCCAA</th>\n",
       "      <td>Mm_POV_04-1</td>\n",
       "      <td>617</td>\n",
       "      <td>617</td>\n",
       "      <td>6.426488</td>\n",
       "      <td>961.0</td>\n",
       "      <td>6.869014</td>\n",
       "      <td>21.748179</td>\n",
       "      <td>0.000000</td>\n",
       "      <td>0.000000</td>\n",
       "      <td>0.000000</td>\n",
       "      <td>False</td>\n",
       "    </tr>\n",
       "    <tr>\n",
       "      <th>TTCCTAACAAAGGCTG</th>\n",
       "      <td>Mm_POV_04-1</td>\n",
       "      <td>287</td>\n",
       "      <td>287</td>\n",
       "      <td>5.662960</td>\n",
       "      <td>464.0</td>\n",
       "      <td>6.142037</td>\n",
       "      <td>36.206897</td>\n",
       "      <td>0.000000</td>\n",
       "      <td>0.000000</td>\n",
       "      <td>0.000000</td>\n",
       "      <td>False</td>\n",
       "    </tr>\n",
       "    <tr>\n",
       "      <th>CCTGCATCAGACGCTC</th>\n",
       "      <td>Mm_POV_04-1</td>\n",
       "      <td>819</td>\n",
       "      <td>819</td>\n",
       "      <td>6.709304</td>\n",
       "      <td>1233.0</td>\n",
       "      <td>7.118016</td>\n",
       "      <td>18.085969</td>\n",
       "      <td>0.000000</td>\n",
       "      <td>0.000000</td>\n",
       "      <td>0.000000</td>\n",
       "      <td>False</td>\n",
       "    </tr>\n",
       "    <tr>\n",
       "      <th>TTCGATTTCAATGCAC</th>\n",
       "      <td>Mm_POV_04-1</td>\n",
       "      <td>287</td>\n",
       "      <td>287</td>\n",
       "      <td>5.662960</td>\n",
       "      <td>400.0</td>\n",
       "      <td>5.993961</td>\n",
       "      <td>24.750000</td>\n",
       "      <td>0.000000</td>\n",
       "      <td>0.000000</td>\n",
       "      <td>0.000000</td>\n",
       "      <td>False</td>\n",
       "    </tr>\n",
       "  </tbody>\n",
       "</table>\n",
       "<p>509780 rows × 11 columns</p>\n",
       "</div>"
      ],
      "text/plain": [
       "                       Sample  n_genes  n_genes_by_counts  \\\n",
       "CATCAAGCAGGATGAC  Hs_OAT_01-1     3597               3597   \n",
       "GTAACCAAGCTCCCTT  Hs_OAT_01-1     1944               1944   \n",
       "GTAACCAAGCCACAAG  Hs_OAT_01-1     3143               3143   \n",
       "GTAACACGTGCCTTCT  Hs_OAT_01-1     5199               5199   \n",
       "GTAACACGTGAGATAT  Hs_OAT_01-1     2383               2383   \n",
       "...                       ...      ...                ...   \n",
       "TTCACCGAGCAATTAG  Mm_POV_04-1      840                840   \n",
       "ATGGGTTAGACGCCAA  Mm_POV_04-1      617                617   \n",
       "TTCCTAACAAAGGCTG  Mm_POV_04-1      287                287   \n",
       "CCTGCATCAGACGCTC  Mm_POV_04-1      819                819   \n",
       "TTCGATTTCAATGCAC  Mm_POV_04-1      287                287   \n",
       "\n",
       "                  log1p_n_genes_by_counts  total_counts  log1p_total_counts  \\\n",
       "CATCAAGCAGGATGAC                 8.188133        7846.0            8.967887   \n",
       "GTAACCAAGCTCCCTT                 7.573017        3384.0            8.127110   \n",
       "GTAACCAAGCCACAAG                 8.053251        6801.0            8.824972   \n",
       "GTAACACGTGCCTTCT                 8.556414       15486.0            9.647757   \n",
       "GTAACACGTGAGATAT                 7.776535        3870.0            8.261269   \n",
       "...                                   ...           ...                 ...   \n",
       "TTCACCGAGCAATTAG                 6.734592        1382.0            7.232010   \n",
       "ATGGGTTAGACGCCAA                 6.426488         961.0            6.869014   \n",
       "TTCCTAACAAAGGCTG                 5.662960         464.0            6.142037   \n",
       "CCTGCATCAGACGCTC                 6.709304        1233.0            7.118016   \n",
       "TTCGATTTCAATGCAC                 5.662960         400.0            5.993961   \n",
       "\n",
       "                  pct_counts_in_top_20_genes  pct_counts_mt  pct_counts_ribo  \\\n",
       "CATCAAGCAGGATGAC                   14.121846       1.223553         0.433342   \n",
       "GTAACCAAGCTCCCTT                   10.786052       0.738771         0.325059   \n",
       "GTAACCAAGCCACAAG                   14.733127       3.940597         0.499926   \n",
       "GTAACACGTGCCTTCT                   11.113264       4.701020         0.555340   \n",
       "GTAACACGTGAGATAT                    9.276486       1.111111         0.258398   \n",
       "...                                      ...            ...              ...   \n",
       "TTCACCGAGCAATTAG                   23.082489       0.000000         0.000000   \n",
       "ATGGGTTAGACGCCAA                   21.748179       0.000000         0.000000   \n",
       "TTCCTAACAAAGGCTG                   36.206897       0.000000         0.000000   \n",
       "CCTGCATCAGACGCTC                   18.085969       0.000000         0.000000   \n",
       "TTCGATTTCAATGCAC                   24.750000       0.000000         0.000000   \n",
       "\n",
       "                  pct_counts_hb  LAM_cells  \n",
       "CATCAAGCAGGATGAC       0.012745       True  \n",
       "GTAACCAAGCTCCCTT       0.000000       True  \n",
       "GTAACCAAGCCACAAG       0.044111       True  \n",
       "GTAACACGTGCCTTCT       0.025830       True  \n",
       "GTAACACGTGAGATAT       0.000000       True  \n",
       "...                         ...        ...  \n",
       "TTCACCGAGCAATTAG       0.000000      False  \n",
       "ATGGGTTAGACGCCAA       0.000000      False  \n",
       "TTCCTAACAAAGGCTG       0.000000      False  \n",
       "CCTGCATCAGACGCTC       0.000000      False  \n",
       "TTCGATTTCAATGCAC       0.000000      False  \n",
       "\n",
       "[509780 rows x 11 columns]"
      ]
     },
     "execution_count": 19,
     "metadata": {},
     "output_type": "execute_result"
    }
   ],
   "source": [
    "df1 = df.sort_values('Sample')\n",
    "df1"
   ]
  },
  {
   "cell_type": "code",
   "execution_count": 24,
   "id": "5b72cf80-921f-43e4-91b9-87c8e2c9b00f",
   "metadata": {},
   "outputs": [],
   "source": [
    "df1.to_csv('adatas_df.csv', index=True)"
   ]
  },
  {
   "cell_type": "markdown",
   "id": "83b2fcfa-151f-4f85-8b0b-3d9c8a6ae6a5",
   "metadata": {},
   "source": [
    "### 2. Visualizing Distribution of a Quality Metric Across Samples\n",
    "\n",
    "This cell generates a faceted kernel density estimate (KDE) plot to visualize the distribution of a selected quality metric (`value`) across different samples using **Seaborn** and **Matplotlib**.\n",
    "\n",
    "- **Sorting**: `df` is sorted by the 'Sample' column to ensure samples are ordered consistently.\n",
    "- **Seaborn FacetGrid**: A `FacetGrid` is created with rows corresponding to different samples, and each sample is assigned a different color using the `tab20` palette.\n",
    "- **KDE Plotting**:\n",
    "  - The `value` column (e.g. percentage of mitochondrial counts, number of genes, etc.) is plotted as a KDE for each sample, filled with color and outlined in white for clarity.\n",
    "  - A horizontal line is drawn at `y=0` to mark the baseline.\n",
    "- **Labeling**: Each subplot is labeled with the corresponding sample name.\n",
    "- **Customization**:\n",
    "  - The y-axis is hidden for clarity, and unnecessary spines are removed.\n",
    "  - A red vertical line is added at the median value of each sample's distribution to show central tendency.\n",
    "- **Display**: Finally, the plot is shown using `plt.show()`, with adjusted spacing between the subplots to avoid overlap.\n",
    "\n",
    "This visualization helps in comparing how a chosen metric varies across different samples in a clean and interpretable manner."
   ]
  },
  {
   "cell_type": "code",
   "execution_count": 26,
   "id": "cc61673b-d0d0-4d03-b4c2-b36ff6e7c00b",
   "metadata": {},
   "outputs": [
    {
     "data": {
      "image/png": "[encoded data removed]",
      "text/plain": [
       "<Figure size 750x4300 with 86 Axes>"
      ]
     },
     "metadata": {},
     "output_type": "display_data"
    }
   ],
   "source": [
    "df = df1.sort_values('Sample')\n",
    "value = \"pct_counts_mt\"\n",
    "#value = \"n_genes\"\n",
    "#value = 'pct_counts_in_top_20_genes'\n",
    "#value = \"log1p_total_counts\"\n",
    "\n",
    "sns.set(style=\"white\", rc={\"axes.facecolor\": (0, 0, 0, 0)})\n",
    "\n",
    "g = sns.FacetGrid(df, row=\"Sample\", hue=\"Sample\", aspect=15, height=0.5, palette=\"tab20\")\n",
    "\n",
    "g.map(sns.kdeplot, value, clip_on=False, fill=True, alpha=1, linewidth=1.5)\n",
    "g.map(sns.kdeplot, value, clip_on=False, color=\"w\", lw=2)\n",
    "\n",
    "g.map(plt.axhline, y=0, lw=2, clip_on=False)\n",
    "\n",
    "def label(x, color, label):\n",
    "    ax = plt.gca()\n",
    "    ax.text(0, .2, label, fontweight=\"bold\", color=color,\n",
    "            ha=\"left\", va=\"center\", transform=ax.transAxes)\n",
    "\n",
    "g.map(label, value)\n",
    "\n",
    "g.figure.subplots_adjust(hspace=-.6)\n",
    "\n",
    "g.set_titles(\"\")\n",
    "g.set(yticks=[], ylabel=\"\")\n",
    "g.despine(bottom=True, left=True)\n",
    "\n",
    "for ax in g.axes.flat:\n",
    "    ax.axvline(x=df[value].median(), color='r', linestyle='-')\n",
    "\n",
    "\n",
    "plt.show()"
   ]
  },
  {
   "cell_type": "code",
   "execution_count": 10,
   "id": "ba5bb181-632f-4998-a72d-ce64b31bbe7c",
   "metadata": {},
   "outputs": [
    {
     "data": {
      "text/plain": [
       "86"
      ]
     },
     "execution_count": 10,
     "metadata": {},
     "output_type": "execute_result"
    }
   ],
   "source": [
    "len(adata_list)"
   ]
  },
  {
   "cell_type": "code",
   "execution_count": 29,
   "id": "a9369fe4-bbfa-4e0e-9846-cbc4d5c0e15c",
   "metadata": {},
   "outputs": [
    {
     "data": {
      "text/html": [
       "<div>\n",
       "<style scoped>\n",
       "    .dataframe tbody tr th:only-of-type {\n",
       "        vertical-align: middle;\n",
       "    }\n",
       "\n",
       "    .dataframe tbody tr th {\n",
       "        vertical-align: top;\n",
       "    }\n",
       "\n",
       "    .dataframe thead th {\n",
       "        text-align: right;\n",
       "    }\n",
       "</style>\n",
       "<table border=\"1\" class=\"dataframe\">\n",
       "  <thead>\n",
       "    <tr style=\"text-align: right;\">\n",
       "      <th></th>\n",
       "      <th>Sample</th>\n",
       "      <th>n_genes</th>\n",
       "      <th>n_genes_by_counts</th>\n",
       "      <th>log1p_n_genes_by_counts</th>\n",
       "      <th>total_counts</th>\n",
       "      <th>log1p_total_counts</th>\n",
       "      <th>pct_counts_in_top_20_genes</th>\n",
       "      <th>pct_counts_mt</th>\n",
       "      <th>pct_counts_ribo</th>\n",
       "      <th>pct_counts_hb</th>\n",
       "      <th>LAM_cells</th>\n",
       "    </tr>\n",
       "  </thead>\n",
       "  <tbody>\n",
       "    <tr>\n",
       "      <th>CTACAGAGTTACGTAC</th>\n",
       "      <td>Mm_POV_02-1</td>\n",
       "      <td>8164</td>\n",
       "      <td>8164</td>\n",
       "      <td>9.007612</td>\n",
       "      <td>44950.0</td>\n",
       "      <td>10.713328</td>\n",
       "      <td>11.563960</td>\n",
       "      <td>0.0</td>\n",
       "      <td>0.0</td>\n",
       "      <td>0.0</td>\n",
       "      <td>False</td>\n",
       "    </tr>\n",
       "    <tr>\n",
       "      <th>GTCTTTAGTCGGTGTC</th>\n",
       "      <td>Mm_POV_02-1</td>\n",
       "      <td>7265</td>\n",
       "      <td>7265</td>\n",
       "      <td>8.890961</td>\n",
       "      <td>42719.0</td>\n",
       "      <td>10.662422</td>\n",
       "      <td>16.706852</td>\n",
       "      <td>0.0</td>\n",
       "      <td>0.0</td>\n",
       "      <td>0.0</td>\n",
       "      <td>False</td>\n",
       "    </tr>\n",
       "    <tr>\n",
       "      <th>TTAGGCACACCTGTCT</th>\n",
       "      <td>Mm_POV_02-1</td>\n",
       "      <td>5881</td>\n",
       "      <td>5881</td>\n",
       "      <td>8.679652</td>\n",
       "      <td>36250.0</td>\n",
       "      <td>10.498222</td>\n",
       "      <td>19.307586</td>\n",
       "      <td>0.0</td>\n",
       "      <td>0.0</td>\n",
       "      <td>0.0</td>\n",
       "      <td>False</td>\n",
       "    </tr>\n",
       "    <tr>\n",
       "      <th>GATTGGTCATAGACTC</th>\n",
       "      <td>Mm_POV_02-1</td>\n",
       "      <td>5902</td>\n",
       "      <td>5902</td>\n",
       "      <td>8.683216</td>\n",
       "      <td>36106.0</td>\n",
       "      <td>10.494242</td>\n",
       "      <td>18.780812</td>\n",
       "      <td>0.0</td>\n",
       "      <td>0.0</td>\n",
       "      <td>0.0</td>\n",
       "      <td>False</td>\n",
       "    </tr>\n",
       "    <tr>\n",
       "      <th>CACTTCGAGGTTCCAT</th>\n",
       "      <td>Mm_POV_02-1</td>\n",
       "      <td>7342</td>\n",
       "      <td>7342</td>\n",
       "      <td>8.901503</td>\n",
       "      <td>35793.0</td>\n",
       "      <td>10.485536</td>\n",
       "      <td>13.466320</td>\n",
       "      <td>0.0</td>\n",
       "      <td>0.0</td>\n",
       "      <td>0.0</td>\n",
       "      <td>False</td>\n",
       "    </tr>\n",
       "    <tr>\n",
       "      <th>...</th>\n",
       "      <td>...</td>\n",
       "      <td>...</td>\n",
       "      <td>...</td>\n",
       "      <td>...</td>\n",
       "      <td>...</td>\n",
       "      <td>...</td>\n",
       "      <td>...</td>\n",
       "      <td>...</td>\n",
       "      <td>...</td>\n",
       "      <td>...</td>\n",
       "      <td>...</td>\n",
       "    </tr>\n",
       "    <tr>\n",
       "      <th>TTCAATCCAAGAAATC</th>\n",
       "      <td>Mm_POV_02-1</td>\n",
       "      <td>402</td>\n",
       "      <td>402</td>\n",
       "      <td>5.998937</td>\n",
       "      <td>495.0</td>\n",
       "      <td>6.206576</td>\n",
       "      <td>15.757576</td>\n",
       "      <td>0.0</td>\n",
       "      <td>0.0</td>\n",
       "      <td>0.0</td>\n",
       "      <td>False</td>\n",
       "    </tr>\n",
       "    <tr>\n",
       "      <th>TTCTAGTTCAGTGTCA</th>\n",
       "      <td>Mm_POV_02-1</td>\n",
       "      <td>224</td>\n",
       "      <td>224</td>\n",
       "      <td>5.416100</td>\n",
       "      <td>256.0</td>\n",
       "      <td>5.549076</td>\n",
       "      <td>19.140625</td>\n",
       "      <td>0.0</td>\n",
       "      <td>0.0</td>\n",
       "      <td>0.0</td>\n",
       "      <td>False</td>\n",
       "    </tr>\n",
       "    <tr>\n",
       "      <th>ACATCGAAGCACGGAT</th>\n",
       "      <td>Mm_POV_02-1</td>\n",
       "      <td>313</td>\n",
       "      <td>313</td>\n",
       "      <td>5.749393</td>\n",
       "      <td>396.0</td>\n",
       "      <td>5.983936</td>\n",
       "      <td>18.434343</td>\n",
       "      <td>0.0</td>\n",
       "      <td>0.0</td>\n",
       "      <td>0.0</td>\n",
       "      <td>False</td>\n",
       "    </tr>\n",
       "    <tr>\n",
       "      <th>CATCGGGCACACCAGC</th>\n",
       "      <td>Mm_POV_02-1</td>\n",
       "      <td>234</td>\n",
       "      <td>234</td>\n",
       "      <td>5.459586</td>\n",
       "      <td>283.0</td>\n",
       "      <td>5.648974</td>\n",
       "      <td>20.494700</td>\n",
       "      <td>0.0</td>\n",
       "      <td>0.0</td>\n",
       "      <td>0.0</td>\n",
       "      <td>False</td>\n",
       "    </tr>\n",
       "    <tr>\n",
       "      <th>GTCTAGAAGTATGACA</th>\n",
       "      <td>Mm_POV_02-1</td>\n",
       "      <td>303</td>\n",
       "      <td>303</td>\n",
       "      <td>5.717028</td>\n",
       "      <td>348.0</td>\n",
       "      <td>5.855072</td>\n",
       "      <td>16.091954</td>\n",
       "      <td>0.0</td>\n",
       "      <td>0.0</td>\n",
       "      <td>0.0</td>\n",
       "      <td>False</td>\n",
       "    </tr>\n",
       "  </tbody>\n",
       "</table>\n",
       "<p>8696 rows × 11 columns</p>\n",
       "</div>"
      ],
      "text/plain": [
       "                       Sample  n_genes  n_genes_by_counts  \\\n",
       "CTACAGAGTTACGTAC  Mm_POV_02-1     8164               8164   \n",
       "GTCTTTAGTCGGTGTC  Mm_POV_02-1     7265               7265   \n",
       "TTAGGCACACCTGTCT  Mm_POV_02-1     5881               5881   \n",
       "GATTGGTCATAGACTC  Mm_POV_02-1     5902               5902   \n",
       "CACTTCGAGGTTCCAT  Mm_POV_02-1     7342               7342   \n",
       "...                       ...      ...                ...   \n",
       "TTCAATCCAAGAAATC  Mm_POV_02-1      402                402   \n",
       "TTCTAGTTCAGTGTCA  Mm_POV_02-1      224                224   \n",
       "ACATCGAAGCACGGAT  Mm_POV_02-1      313                313   \n",
       "CATCGGGCACACCAGC  Mm_POV_02-1      234                234   \n",
       "GTCTAGAAGTATGACA  Mm_POV_02-1      303                303   \n",
       "\n",
       "                  log1p_n_genes_by_counts  total_counts  log1p_total_counts  \\\n",
       "CTACAGAGTTACGTAC                 9.007612       44950.0           10.713328   \n",
       "GTCTTTAGTCGGTGTC                 8.890961       42719.0           10.662422   \n",
       "TTAGGCACACCTGTCT                 8.679652       36250.0           10.498222   \n",
       "GATTGGTCATAGACTC                 8.683216       36106.0           10.494242   \n",
       "CACTTCGAGGTTCCAT                 8.901503       35793.0           10.485536   \n",
       "...                                   ...           ...                 ...   \n",
       "TTCAATCCAAGAAATC                 5.998937         495.0            6.206576   \n",
       "TTCTAGTTCAGTGTCA                 5.416100         256.0            5.549076   \n",
       "ACATCGAAGCACGGAT                 5.749393         396.0            5.983936   \n",
       "CATCGGGCACACCAGC                 5.459586         283.0            5.648974   \n",
       "GTCTAGAAGTATGACA                 5.717028         348.0            5.855072   \n",
       "\n",
       "                  pct_counts_in_top_20_genes  pct_counts_mt  pct_counts_ribo  \\\n",
       "CTACAGAGTTACGTAC                   11.563960            0.0              0.0   \n",
       "GTCTTTAGTCGGTGTC                   16.706852            0.0              0.0   \n",
       "TTAGGCACACCTGTCT                   19.307586            0.0              0.0   \n",
       "GATTGGTCATAGACTC                   18.780812            0.0              0.0   \n",
       "CACTTCGAGGTTCCAT                   13.466320            0.0              0.0   \n",
       "...                                      ...            ...              ...   \n",
       "TTCAATCCAAGAAATC                   15.757576            0.0              0.0   \n",
       "TTCTAGTTCAGTGTCA                   19.140625            0.0              0.0   \n",
       "ACATCGAAGCACGGAT                   18.434343            0.0              0.0   \n",
       "CATCGGGCACACCAGC                   20.494700            0.0              0.0   \n",
       "GTCTAGAAGTATGACA                   16.091954            0.0              0.0   \n",
       "\n",
       "                  pct_counts_hb  LAM_cells  \n",
       "CTACAGAGTTACGTAC            0.0      False  \n",
       "GTCTTTAGTCGGTGTC            0.0      False  \n",
       "TTAGGCACACCTGTCT            0.0      False  \n",
       "GATTGGTCATAGACTC            0.0      False  \n",
       "CACTTCGAGGTTCCAT            0.0      False  \n",
       "...                         ...        ...  \n",
       "TTCAATCCAAGAAATC            0.0      False  \n",
       "TTCTAGTTCAGTGTCA            0.0      False  \n",
       "ACATCGAAGCACGGAT            0.0      False  \n",
       "CATCGGGCACACCAGC            0.0      False  \n",
       "GTCTAGAAGTATGACA            0.0      False  \n",
       "\n",
       "[8696 rows x 11 columns]"
      ]
     },
     "execution_count": 29,
     "metadata": {},
     "output_type": "execute_result"
    }
   ],
   "source": [
    "\n",
    "adata_list[-1].obs"
   ]
  },
  {
   "cell_type": "markdown",
   "id": "ebfe1866-8bd3-4f46-a853-a8dab58a721d",
   "metadata": {},
   "source": [
    "#### Splitting Data into Human and Mouse Samples\n",
    "\n",
    "This code separates the combined `AnnData` objects in `adata_list` into two lists: one for human samples (`human_adata_list`) and one for mouse samples (`mouse_adata_list`). \n",
    "\n",
    "- **Human Samples**: \n",
    "  - The `obs['Sample']` field is checked for entries starting with `'Hs_'` (indicating human samples). If any human cells are present (`n_obs > 0`), the subset is added to `human_adata_list`.\n",
    "  \n",
    "- **Mouse Samples**: \n",
    "  - Similarly, the `obs['Sample']` field is checked for entries starting with `'Mm_'` (indicating mouse samples). If any mouse cells are present, the subset is added to `mouse_adata_list`.\n",
    "\n",
    "This creates two separate lists of `AnnData` objects for further analysis, one for each species.\n",
    "\n",
    "I've decided at this point to only work with human samples given that we have many samples in the dataset"
   ]
  },
  {
   "cell_type": "code",
   "execution_count": 8,
   "id": "faa9f1a1-e73c-4b55-8e8c-a2fdfdae481c",
   "metadata": {},
   "outputs": [],
   "source": [
    "# split the data into human and mouse samples\n",
    "human_adata_list = []\n",
    "mouse_adata_list = []\n",
    "\n",
    "for adata in adata_list:\n",
    "    # filter for human samples (Sample starts with 'Hs_')\n",
    "    human_adata = adata[adata.obs['Sample'].str.startswith('Hs_')]\n",
    "    if human_adata.n_obs > 0:  # only keep if it has data\n",
    "        human_adata_list.append(human_adata)\n",
    "    \n",
    "    # filter for mouse samples (Sample starts with 'Mm_')\n",
    "    mouse_adata = adata[adata.obs['Sample'].str.startswith('Mm_')]\n",
    "    if mouse_adata.n_obs > 0:  # only keep if it has data\n",
    "        mouse_adata_list.append(mouse_adata)"
   ]
  },
  {
   "cell_type": "code",
   "execution_count": 11,
   "id": "9d153b29-f368-4dcf-9863-a3d3902bcc0e",
   "metadata": {},
   "outputs": [],
   "source": [
    "for i, adata in enumerate(adata_list):\n",
    "    adata.write(f'processed/adata_object_{i}.h5ad')"
   ]
  },
  {
   "cell_type": "markdown",
   "id": "1520b00c-5f8b-43ee-9af6-1332c692e31a",
   "metadata": {},
   "source": [
    "---"
   ]
  },
  {
   "cell_type": "markdown",
   "id": "3567de04-b272-46f7-8bc3-bad2a11abd09",
   "metadata": {},
   "source": [
    "### 3. Double Detection"
   ]
  },
  {
   "cell_type": "code",
   "execution_count": 9,
   "id": "3fc35bc8-8ba5-4e75-ac5f-ae05beffe7e3",
   "metadata": {},
   "outputs": [],
   "source": [
    "import doubletdetection\n",
    "from scipy.stats import median_abs_deviation as mad\n",
    "import numpy as np"
   ]
  },
  {
   "cell_type": "markdown",
   "id": "663903eb-99e9-4458-9fdd-954142229564",
   "metadata": {},
   "source": [
    "This following function detects outliers in the `AnnData` object (`adata`) based on the **Median Absolute Deviation (MAD)** method, as described by Germain et al. in Genome Biology (2020).\n",
    "\n",
    "- **Parameters**:\n",
    "  - `adata`: The `AnnData` object containing the data.\n",
    "  - `metric`: The column in `adata.obs` representing the quality control metric (e.g., `pct_counts_mt`) to check for outliers.\n",
    "  - `nmads`: The number of MADs (Median Absolute Deviations) to use as a threshold for defining outliers.\n",
    "  - `upper_only`: If set to `True`, only detects outliers above the upper threshold (ignores lower outliers).\n",
    "\n",
    "- **Logic**:\n",
    "  - If `upper_only=False`, the function flags outliers both above and below the median using the MAD method:\n",
    "    - Outliers are those where the value is either:\n",
    "      - Lower than the median minus `nmads * MAD`, or\n",
    "      - Higher than the median plus `nmads * MAD`.\n",
    "  - If `upper_only=True`, the function only flags outliers above the upper threshold.\n",
    "\n",
    "The function returns a boolean mask that identifies the cells flagged as outliers based on the given metric and thresholds."
   ]
  },
  {
   "cell_type": "code",
   "execution_count": 10,
   "id": "d024ced4-0aa8-4ddb-99f7-7935aa9816b7",
   "metadata": {},
   "outputs": [],
   "source": [
    "def mad_outlier(adata, metric, nmads, upper_only = False):\n",
    "    M = adata.obs[metric]\n",
    "    \n",
    "    if not upper_only:\n",
    "        return (M < np.median(M) - nmads * mad(M)) | (M > np.median(M) + nmads * mad(M))\n",
    "    \n",
    "    return (M > np.median(M) + nmads * mad(M))"
   ]
  },
  {
   "cell_type": "markdown",
   "id": "ae932662-fc62-4df0-9a9a-556831a5b42a",
   "metadata": {},
   "source": [
    "#### Initializing the `BoostClassifier` for Doublet Detection\n",
    "\n",
    "This line initializes a **BoostClassifier** from the `doubletdetection` package to identify potential doublets in our data.\n",
    "\n",
    "- **Parameters**:\n",
    "  - `n_iters=10`: The number of iterations to run the doublet detection algorithm, helping improve robustness of the results.\n",
    "  - `clustering_algorithm=\"louvain\"`: The clustering algorithm used to partition cells before detecting doublets. Here, the Louvain algorithm is selected for clustering.\n",
    "  - `standard_scaling=True`: Enables scaling of the gene expression data to standardize it, which can improve the performance of the classifier.\n",
    "  - `pseudocount=0.1`: A small value added to the data to avoid division by zero and stabilize computations.\n",
    "  - `n_jobs=-1`: Uses all available CPU cores for parallel computation to speed up processing.\n",
    "\n",
    "This classifier will then be used to predict doublets in the dataset."
   ]
  },
  {
   "cell_type": "code",
   "execution_count": 11,
   "id": "922aba1a-9109-4948-87d3-aaff022b3dca",
   "metadata": {},
   "outputs": [],
   "source": [
    "clf = doubletdetection.BoostClassifier(\n",
    "    n_iters=10,\n",
    "    clustering_algorithm=\"louvain\",\n",
    "    standard_scaling=True,\n",
    "    pseudocount=0.1,\n",
    "    n_jobs=-1)"
   ]
  },
  {
   "cell_type": "markdown",
   "id": "839e5c2d-2ff8-4b0c-a317-034958cafe6b",
   "metadata": {},
   "source": [
    "**Putting all together**\n",
    "\n",
    "The following function preprocesses an `AnnData` object (`adata`) to filter out low-quality cells and identify potential doublets.\n",
    "\n",
    "- **Quality Control**:\n",
    "  - **Mitochondrial Percentage Filter**: Cells are filtered to retain only those with less than 25% mitochondrial gene expression (`pct_counts_mt < 25`). This threshold can be adjusted based on the dataset's overall distribution.\n",
    "  \n",
    "  - **Outlier Detection**: A boolean vector (`bool_vector`) is created to identify outliers using the **Median Absolute Deviation (MAD)** method for the following metrics:\n",
    "    - `log1p_total_counts`\n",
    "    - `log1p_n_genes_by_counts`\n",
    "    - `pct_counts_in_top_20_genes`\n",
    "    - `pct_counts_mt` (considering only upper outliers with a threshold of 3)\n",
    "  \n",
    "  - Cells flagged as outliers are removed from `adata`.\n",
    "\n",
    "- **Doublet Detection**:\n",
    "  - The classifier (`clf`, previously initialized) is fitted to the filtered data, and potential doublets are predicted using a probability threshold of `1e-3` and a voter threshold of `0.5`.\n",
    "  - The doublet scores are also calculated and stored.\n",
    "\n",
    "- **Data Management**:\n",
    "  - The total number of removed cells and detected doublets is recorded in the `.uns` attribute.\n",
    "  - Cells identified as doublets (`doublet == 1`) are removed from `adata`.\n",
    "\n",
    "The function returns the cleaned `AnnData` object with low-quality cells and doublets filtered out, ready for further analysis."
   ]
  },
  {
   "cell_type": "code",
   "execution_count": 12,
   "id": "a7e2e963-98ea-42ed-8148-78cf2433ddb9",
   "metadata": {},
   "outputs": [],
   "source": [
    "def pp(adata):\n",
    "    adata = adata[adata.obs.pct_counts_mt < 25] #you can lower this based on the overal distribution of your dataset\n",
    "    \n",
    "    bool_vector = mad_outlier(adata, 'log1p_total_counts', 5) +\\\n",
    "            mad_outlier(adata, 'log1p_n_genes_by_counts', 5) +\\\n",
    "            mad_outlier(adata, 'pct_counts_in_top_20_genes', 5) +\\\n",
    "            mad_outlier(adata, 'pct_counts_mt', 3, upper_only = True)\n",
    "    adata = adata[~bool_vector]\n",
    "\n",
    "    adata.uns['cells_removed'] = sum(bool_vector)\n",
    "\n",
    "    doublets = clf.fit(adata.X).predict(p_thresh=1e-3, voter_thresh=0.5)\n",
    "    doublet_score = clf.doublet_score()\n",
    "\n",
    "    adata.obs[\"doublet\"] = doublets\n",
    "    adata.obs[\"doublet_score\"] = doublet_score\n",
    "\n",
    "    adata.uns['doublets_removed'] = adata.obs.doublet.sum()\n",
    "    adata = adata[adata.obs.doublet == 0]\n",
    "\n",
    "    return adata"
   ]
  },
  {
   "cell_type": "code",
   "execution_count": 13,
   "id": "20449474-9c86-491b-b62e-61d41165bae5",
   "metadata": {},
   "outputs": [],
   "source": [
    "# applying the steps in batches to save memory\n",
    "\n",
    "def process_in_batches(adata_list, batch_size=5):\n",
    "    results = []\n",
    "    for i in range(0, len(adata_list), batch_size):\n",
    "        # process a batch of AnnData objects\n",
    "        batch = adata_list[i:i + batch_size]\n",
    "        # apply the preprocessing function to each AnnData object in the batch\n",
    "        processed_batch = [pp(ad) for ad in batch]\n",
    "        results.extend(processed_batch)  # collect results\n",
    "    return results"
   ]
  },
  {
   "cell_type": "code",
   "execution_count": null,
   "id": "a4daad23-2b56-40e6-87ae-a362c95cb011",
   "metadata": {},
   "outputs": [
    {
     "data": {
      "application/vnd.jupyter.widget-view+json": {
       "model_id": "1dc5835239d743b89dd74b00ccdaf4ec",
       "version_major": 2,
       "version_minor": 0
      },
      "text/plain": [
       "  0%|          | 0/10 [00:00<?, ?it/s]"
      ]
     },
     "metadata": {},
     "output_type": "display_data"
    },
    {
     "data": {
      "application/vnd.jupyter.widget-view+json": {
       "model_id": "accca7205cf1437dac35c312dc74d51b",
       "version_major": 2,
       "version_minor": 0
      },
      "text/plain": [
       "  0%|          | 0/10 [00:00<?, ?it/s]"
      ]
     },
     "metadata": {},
     "output_type": "display_data"
    },
    {
     "data": {
      "application/vnd.jupyter.widget-view+json": {
       "model_id": "fcd6db6131d24480b7a1b67ef824d5a7",
       "version_major": 2,
       "version_minor": 0
      },
      "text/plain": [
       "  0%|          | 0/10 [00:00<?, ?it/s]"
      ]
     },
     "metadata": {},
     "output_type": "display_data"
    },
    {
     "data": {
      "application/vnd.jupyter.widget-view+json": {
       "model_id": "fb6dded807404657ace5eb5151af4562",
       "version_major": 2,
       "version_minor": 0
      },
      "text/plain": [
       "  0%|          | 0/10 [00:00<?, ?it/s]"
      ]
     },
     "metadata": {},
     "output_type": "display_data"
    },
    {
     "data": {
      "application/vnd.jupyter.widget-view+json": {
       "model_id": "07a1158972f44e5b9a1fc9fdb49f9448",
       "version_major": 2,
       "version_minor": 0
      },
      "text/plain": [
       "  0%|          | 0/10 [00:00<?, ?it/s]"
      ]
     },
     "metadata": {},
     "output_type": "display_data"
    },
    {
     "data": {
      "application/vnd.jupyter.widget-view+json": {
       "model_id": "91fed95b6af34ae28661cb63434cddf8",
       "version_major": 2,
       "version_minor": 0
      },
      "text/plain": [
       "  0%|          | 0/10 [00:00<?, ?it/s]"
      ]
     },
     "metadata": {},
     "output_type": "display_data"
    },
    {
     "data": {
      "application/vnd.jupyter.widget-view+json": {
       "model_id": "1474eaa8e9c843d4a4978df65eb698ab",
       "version_major": 2,
       "version_minor": 0
      },
      "text/plain": [
       "  0%|          | 0/10 [00:00<?, ?it/s]"
      ]
     },
     "metadata": {},
     "output_type": "display_data"
    },
    {
     "data": {
      "application/vnd.jupyter.widget-view+json": {
       "model_id": "5a3da16fe7994e629d2df509f80ced7b",
       "version_major": 2,
       "version_minor": 0
      },
      "text/plain": [
       "  0%|          | 0/10 [00:00<?, ?it/s]"
      ]
     },
     "metadata": {},
     "output_type": "display_data"
    },
    {
     "data": {
      "application/vnd.jupyter.widget-view+json": {
       "model_id": "2445a625946e4bdc8a552dfb13acd272",
       "version_major": 2,
       "version_minor": 0
      },
      "text/plain": [
       "  0%|          | 0/10 [00:00<?, ?it/s]"
      ]
     },
     "metadata": {},
     "output_type": "display_data"
    },
    {
     "data": {
      "application/vnd.jupyter.widget-view+json": {
       "model_id": "2df9860bba9b4a7cb0bb45ecb108bc72",
       "version_major": 2,
       "version_minor": 0
      },
      "text/plain": [
       "  0%|          | 0/10 [00:00<?, ?it/s]"
      ]
     },
     "metadata": {},
     "output_type": "display_data"
    },
    {
     "data": {
      "application/vnd.jupyter.widget-view+json": {
       "model_id": "efd4af693a394225bc606b6691718b3e",
       "version_major": 2,
       "version_minor": 0
      },
      "text/plain": [
       "  0%|          | 0/10 [00:00<?, ?it/s]"
      ]
     },
     "metadata": {},
     "output_type": "display_data"
    },
    {
     "data": {
      "application/vnd.jupyter.widget-view+json": {
       "model_id": "77d4915c67344d7dbd4f68a48314d3d4",
       "version_major": 2,
       "version_minor": 0
      },
      "text/plain": [
       "  0%|          | 0/10 [00:00<?, ?it/s]"
      ]
     },
     "metadata": {},
     "output_type": "display_data"
    },
    {
     "data": {
      "application/vnd.jupyter.widget-view+json": {
       "model_id": "b491ef39049b4923b251d2b040f56c62",
       "version_major": 2,
       "version_minor": 0
      },
      "text/plain": [
       "  0%|          | 0/10 [00:00<?, ?it/s]"
      ]
     },
     "metadata": {},
     "output_type": "display_data"
    },
    {
     "data": {
      "application/vnd.jupyter.widget-view+json": {
       "model_id": "b8993de1139648b98326e4175d746e47",
       "version_major": 2,
       "version_minor": 0
      },
      "text/plain": [
       "  0%|          | 0/10 [00:00<?, ?it/s]"
      ]
     },
     "metadata": {},
     "output_type": "display_data"
    },
    {
     "data": {
      "application/vnd.jupyter.widget-view+json": {
       "model_id": "885047199a414c6d80e7a7bd69c24730",
       "version_major": 2,
       "version_minor": 0
      },
      "text/plain": [
       "  0%|          | 0/10 [00:00<?, ?it/s]"
      ]
     },
     "metadata": {},
     "output_type": "display_data"
    },
    {
     "data": {
      "application/vnd.jupyter.widget-view+json": {
       "model_id": "8a7d99b980bf4ca6b80e366a002d2a2b",
       "version_major": 2,
       "version_minor": 0
      },
      "text/plain": [
       "  0%|          | 0/10 [00:00<?, ?it/s]"
      ]
     },
     "metadata": {},
     "output_type": "display_data"
    },
    {
     "data": {
      "application/vnd.jupyter.widget-view+json": {
       "model_id": "43f15bf00fc348a8b79e5f7e30e209ed",
       "version_major": 2,
       "version_minor": 0
      },
      "text/plain": [
       "  0%|          | 0/10 [00:00<?, ?it/s]"
      ]
     },
     "metadata": {},
     "output_type": "display_data"
    },
    {
     "data": {
      "application/vnd.jupyter.widget-view+json": {
       "model_id": "5786ea2b32b34b89aa97c36c6212fa51",
       "version_major": 2,
       "version_minor": 0
      },
      "text/plain": [
       "  0%|          | 0/10 [00:00<?, ?it/s]"
      ]
     },
     "metadata": {},
     "output_type": "display_data"
    },
    {
     "data": {
      "application/vnd.jupyter.widget-view+json": {
       "model_id": "7846065084564c658812305814ec0fdb",
       "version_major": 2,
       "version_minor": 0
      },
      "text/plain": [
       "  0%|          | 0/10 [00:00<?, ?it/s]"
      ]
     },
     "metadata": {},
     "output_type": "display_data"
    },
    {
     "data": {
      "application/vnd.jupyter.widget-view+json": {
       "model_id": "8cf04ee3f37c425bbb9b70babcb0e071",
       "version_major": 2,
       "version_minor": 0
      },
      "text/plain": [
       "  0%|          | 0/10 [00:00<?, ?it/s]"
      ]
     },
     "metadata": {},
     "output_type": "display_data"
    },
    {
     "data": {
      "application/vnd.jupyter.widget-view+json": {
       "model_id": "6952d63adb9343f49bbbb09801514b13",
       "version_major": 2,
       "version_minor": 0
      },
      "text/plain": [
       "  0%|          | 0/10 [00:00<?, ?it/s]"
      ]
     },
     "metadata": {},
     "output_type": "display_data"
    },
    {
     "data": {
      "application/vnd.jupyter.widget-view+json": {
       "model_id": "badfc0e35c1046d3a11ae69646a8165a",
       "version_major": 2,
       "version_minor": 0
      },
      "text/plain": [
       "  0%|          | 0/10 [00:00<?, ?it/s]"
      ]
     },
     "metadata": {},
     "output_type": "display_data"
    },
    {
     "data": {
      "application/vnd.jupyter.widget-view+json": {
       "model_id": "44dbae5d83fd43e6b25f804a89bc3d8d",
       "version_major": 2,
       "version_minor": 0
      },
      "text/plain": [
       "  0%|          | 0/10 [00:00<?, ?it/s]"
      ]
     },
     "metadata": {},
     "output_type": "display_data"
    },
    {
     "data": {
      "application/vnd.jupyter.widget-view+json": {
       "model_id": "663ce41d06dc4635a27291ddb8e10649",
       "version_major": 2,
       "version_minor": 0
      },
      "text/plain": [
       "  0%|          | 0/10 [00:00<?, ?it/s]"
      ]
     },
     "metadata": {},
     "output_type": "display_data"
    },
    {
     "data": {
      "application/vnd.jupyter.widget-view+json": {
       "model_id": "47a630e906fc4d57aa1896d902f6b428",
       "version_major": 2,
       "version_minor": 0
      },
      "text/plain": [
       "  0%|          | 0/10 [00:00<?, ?it/s]"
      ]
     },
     "metadata": {},
     "output_type": "display_data"
    },
    {
     "data": {
      "application/vnd.jupyter.widget-view+json": {
       "model_id": "accc7f6aabca40ea988cc389965055f6",
       "version_major": 2,
       "version_minor": 0
      },
      "text/plain": [
       "  0%|          | 0/10 [00:00<?, ?it/s]"
      ]
     },
     "metadata": {},
     "output_type": "display_data"
    },
    {
     "data": {
      "application/vnd.jupyter.widget-view+json": {
       "model_id": "d01d8226c26145469881b270c5b87144",
       "version_major": 2,
       "version_minor": 0
      },
      "text/plain": [
       "  0%|          | 0/10 [00:00<?, ?it/s]"
      ]
     },
     "metadata": {},
     "output_type": "display_data"
    },
    {
     "data": {
      "application/vnd.jupyter.widget-view+json": {
       "model_id": "f5ca390811914560832afd4a20da2d09",
       "version_major": 2,
       "version_minor": 0
      },
      "text/plain": [
       "  0%|          | 0/10 [00:00<?, ?it/s]"
      ]
     },
     "metadata": {},
     "output_type": "display_data"
    },
    {
     "data": {
      "application/vnd.jupyter.widget-view+json": {
       "model_id": "021512f9493544868ecf9159ee60ce26",
       "version_major": 2,
       "version_minor": 0
      },
      "text/plain": [
       "  0%|          | 0/10 [00:00<?, ?it/s]"
      ]
     },
     "metadata": {},
     "output_type": "display_data"
    },
    {
     "data": {
      "application/vnd.jupyter.widget-view+json": {
       "model_id": "bdcc955e62e14f18be71fe882aaff268",
       "version_major": 2,
       "version_minor": 0
      },
      "text/plain": [
       "  0%|          | 0/10 [00:00<?, ?it/s]"
      ]
     },
     "metadata": {},
     "output_type": "display_data"
    },
    {
     "data": {
      "application/vnd.jupyter.widget-view+json": {
       "model_id": "487645caa19b4fff86426230e2a2c81a",
       "version_major": 2,
       "version_minor": 0
      },
      "text/plain": [
       "  0%|          | 0/10 [00:00<?, ?it/s]"
      ]
     },
     "metadata": {},
     "output_type": "display_data"
    },
    {
     "data": {
      "application/vnd.jupyter.widget-view+json": {
       "model_id": "06627ac3fe644dd9a85aa1dac1fa6271",
       "version_major": 2,
       "version_minor": 0
      },
      "text/plain": [
       "  0%|          | 0/10 [00:00<?, ?it/s]"
      ]
     },
     "metadata": {},
     "output_type": "display_data"
    },
    {
     "data": {
      "application/vnd.jupyter.widget-view+json": {
       "model_id": "5602145a469a44dd9d56dcfa24d52e98",
       "version_major": 2,
       "version_minor": 0
      },
      "text/plain": [
       "  0%|          | 0/10 [00:00<?, ?it/s]"
      ]
     },
     "metadata": {},
     "output_type": "display_data"
    },
    {
     "data": {
      "application/vnd.jupyter.widget-view+json": {
       "model_id": "5bbd1724fe4b4bc1a54dbd738f9532b6",
       "version_major": 2,
       "version_minor": 0
      },
      "text/plain": [
       "  0%|          | 0/10 [00:00<?, ?it/s]"
      ]
     },
     "metadata": {},
     "output_type": "display_data"
    },
    {
     "data": {
      "application/vnd.jupyter.widget-view+json": {
       "model_id": "1eeb904a3ca942e4a3c0d11d9c7a24ab",
       "version_major": 2,
       "version_minor": 0
      },
      "text/plain": [
       "  0%|          | 0/10 [00:00<?, ?it/s]"
      ]
     },
     "metadata": {},
     "output_type": "display_data"
    },
    {
     "data": {
      "application/vnd.jupyter.widget-view+json": {
       "model_id": "1de0ac49f5854d0a8bea156586fe5926",
       "version_major": 2,
       "version_minor": 0
      },
      "text/plain": [
       "  0%|          | 0/10 [00:00<?, ?it/s]"
      ]
     },
     "metadata": {},
     "output_type": "display_data"
    },
    {
     "data": {
      "application/vnd.jupyter.widget-view+json": {
       "model_id": "779abdd56f7e4db5a5a95b84c23aee89",
       "version_major": 2,
       "version_minor": 0
      },
      "text/plain": [
       "  0%|          | 0/10 [00:00<?, ?it/s]"
      ]
     },
     "metadata": {},
     "output_type": "display_data"
    },
    {
     "data": {
      "application/vnd.jupyter.widget-view+json": {
       "model_id": "853e7c89c62849acb956ba7b7f418f2f",
       "version_major": 2,
       "version_minor": 0
      },
      "text/plain": [
       "  0%|          | 0/10 [00:00<?, ?it/s]"
      ]
     },
     "metadata": {},
     "output_type": "display_data"
    },
    {
     "data": {
      "application/vnd.jupyter.widget-view+json": {
       "model_id": "2ba3d133855647789f1549d2c64dacaa",
       "version_major": 2,
       "version_minor": 0
      },
      "text/plain": [
       "  0%|          | 0/10 [00:00<?, ?it/s]"
      ]
     },
     "metadata": {},
     "output_type": "display_data"
    },
    {
     "data": {
      "application/vnd.jupyter.widget-view+json": {
       "model_id": "7a47dc87f1db4439807a1394141cfdee",
       "version_major": 2,
       "version_minor": 0
      },
      "text/plain": [
       "  0%|          | 0/10 [00:00<?, ?it/s]"
      ]
     },
     "metadata": {},
     "output_type": "display_data"
    },
    {
     "data": {
      "application/vnd.jupyter.widget-view+json": {
       "model_id": "5043824e29d74afdbb361bec17ba993b",
       "version_major": 2,
       "version_minor": 0
      },
      "text/plain": [
       "  0%|          | 0/10 [00:00<?, ?it/s]"
      ]
     },
     "metadata": {},
     "output_type": "display_data"
    },
    {
     "data": {
      "application/vnd.jupyter.widget-view+json": {
       "model_id": "b9e57bf3287a40f3b12af8eca838b7fc",
       "version_major": 2,
       "version_minor": 0
      },
      "text/plain": [
       "  0%|          | 0/10 [00:00<?, ?it/s]"
      ]
     },
     "metadata": {},
     "output_type": "display_data"
    },
    {
     "data": {
      "application/vnd.jupyter.widget-view+json": {
       "model_id": "78691878fe9a40a6bd85fab86f78844b",
       "version_major": 2,
       "version_minor": 0
      },
      "text/plain": [
       "  0%|          | 0/10 [00:00<?, ?it/s]"
      ]
     },
     "metadata": {},
     "output_type": "display_data"
    },
    {
     "data": {
      "application/vnd.jupyter.widget-view+json": {
       "model_id": "a548f1ba456e430fa96c7eafba37faf9",
       "version_major": 2,
       "version_minor": 0
      },
      "text/plain": [
       "  0%|          | 0/10 [00:00<?, ?it/s]"
      ]
     },
     "metadata": {},
     "output_type": "display_data"
    },
    {
     "data": {
      "application/vnd.jupyter.widget-view+json": {
       "model_id": "1cb2dc9bd94049a7834dcf82e8e62ed8",
       "version_major": 2,
       "version_minor": 0
      },
      "text/plain": [
       "  0%|          | 0/10 [00:00<?, ?it/s]"
      ]
     },
     "metadata": {},
     "output_type": "display_data"
    },
    {
     "data": {
      "application/vnd.jupyter.widget-view+json": {
       "model_id": "47841bbd0b464e2bba267e9c764fd846",
       "version_major": 2,
       "version_minor": 0
      },
      "text/plain": [
       "  0%|          | 0/10 [00:00<?, ?it/s]"
      ]
     },
     "metadata": {},
     "output_type": "display_data"
    },
    {
     "data": {
      "application/vnd.jupyter.widget-view+json": {
       "model_id": "46ee61e0ee724464bd3522d0af62334e",
       "version_major": 2,
       "version_minor": 0
      },
      "text/plain": [
       "  0%|          | 0/10 [00:00<?, ?it/s]"
      ]
     },
     "metadata": {},
     "output_type": "display_data"
    },
    {
     "data": {
      "application/vnd.jupyter.widget-view+json": {
       "model_id": "f6942c94182d4c2da205d32e790688be",
       "version_major": 2,
       "version_minor": 0
      },
      "text/plain": [
       "  0%|          | 0/10 [00:00<?, ?it/s]"
      ]
     },
     "metadata": {},
     "output_type": "display_data"
    },
    {
     "data": {
      "application/vnd.jupyter.widget-view+json": {
       "model_id": "7c778f0726fb4fe79207b26916b9c269",
       "version_major": 2,
       "version_minor": 0
      },
      "text/plain": [
       "  0%|          | 0/10 [00:00<?, ?it/s]"
      ]
     },
     "metadata": {},
     "output_type": "display_data"
    },
    {
     "data": {
      "application/vnd.jupyter.widget-view+json": {
       "model_id": "c374964e83944a3cb05386ee898b5c75",
       "version_major": 2,
       "version_minor": 0
      },
      "text/plain": [
       "  0%|          | 0/10 [00:00<?, ?it/s]"
      ]
     },
     "metadata": {},
     "output_type": "display_data"
    },
    {
     "data": {
      "application/vnd.jupyter.widget-view+json": {
       "model_id": "5da0d0bd33ae4997ae0ace27b20d7ab8",
       "version_major": 2,
       "version_minor": 0
      },
      "text/plain": [
       "  0%|          | 0/10 [00:00<?, ?it/s]"
      ]
     },
     "metadata": {},
     "output_type": "display_data"
    },
    {
     "data": {
      "application/vnd.jupyter.widget-view+json": {
       "model_id": "e68718d766464248b0d481d06a36981c",
       "version_major": 2,
       "version_minor": 0
      },
      "text/plain": [
       "  0%|          | 0/10 [00:00<?, ?it/s]"
      ]
     },
     "metadata": {},
     "output_type": "display_data"
    },
    {
     "data": {
      "application/vnd.jupyter.widget-view+json": {
       "model_id": "3e7451a7acdc416b852b9d4428cdc84b",
       "version_major": 2,
       "version_minor": 0
      },
      "text/plain": [
       "  0%|          | 0/10 [00:00<?, ?it/s]"
      ]
     },
     "metadata": {},
     "output_type": "display_data"
    },
    {
     "data": {
      "application/vnd.jupyter.widget-view+json": {
       "model_id": "cfd129976cf74cd1b63c66700a71aee1",
       "version_major": 2,
       "version_minor": 0
      },
      "text/plain": [
       "  0%|          | 0/10 [00:00<?, ?it/s]"
      ]
     },
     "metadata": {},
     "output_type": "display_data"
    },
    {
     "data": {
      "application/vnd.jupyter.widget-view+json": {
       "model_id": "fd3a1317072d44558bf901ddc438ede1",
       "version_major": 2,
       "version_minor": 0
      },
      "text/plain": [
       "  0%|          | 0/10 [00:00<?, ?it/s]"
      ]
     },
     "metadata": {},
     "output_type": "display_data"
    },
    {
     "data": {
      "application/vnd.jupyter.widget-view+json": {
       "model_id": "68f8dd72e1d24127ad5958369c73bfb0",
       "version_major": 2,
       "version_minor": 0
      },
      "text/plain": [
       "  0%|          | 0/10 [00:00<?, ?it/s]"
      ]
     },
     "metadata": {},
     "output_type": "display_data"
    },
    {
     "data": {
      "application/vnd.jupyter.widget-view+json": {
       "model_id": "9ba66dba25e843529ad28717dec16ec9",
       "version_major": 2,
       "version_minor": 0
      },
      "text/plain": [
       "  0%|          | 0/10 [00:00<?, ?it/s]"
      ]
     },
     "metadata": {},
     "output_type": "display_data"
    }
   ],
   "source": [
    "adata_list1 = process_in_batches(adata_list, batch_size=5)\n"
   ]
  }
 ],
 "metadata": {
  "kernelspec": {
   "display_name": "Python (scanpy_env)",
   "language": "python",
   "name": "scanpy_env"
  },
  "language_info": {
   "codemirror_mode": {
    "name": "ipython",
    "version": 3
   },
   "file_extension": ".py",
   "mimetype": "text/x-python",
   "name": "python",
   "nbconvert_exporter": "python",
   "pygments_lexer": "ipython3",
   "version": "3.9.19"
  }
 },
 "nbformat": 4,
 "nbformat_minor": 5
}
